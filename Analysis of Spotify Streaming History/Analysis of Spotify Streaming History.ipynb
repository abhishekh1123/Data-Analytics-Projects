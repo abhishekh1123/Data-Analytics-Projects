{
 "cells": [
  {
   "cell_type": "markdown",
   "id": "a78e9d63-5b15-4a49-8bc3-6dec70a90864",
   "metadata": {},
   "source": [
    "# Spotify Streaming History\n",
    "Spotify user's complete music streaming history data, including timestamps, track, artist, and album names, and reasons for playing and ending each track."
   ]
  },
  {
   "cell_type": "markdown",
   "id": "a0123f7b-03b2-4664-9aee-1cf9744d5637",
   "metadata": {},
   "source": [
    "### Analysis\n",
    "* 1. Which artist did they listen to the most this year? Is it the same as last year?\n",
    "\n",
    "* 2. Which songs have they played the most? How often do they skip them?\n",
    "\n",
    "* 3.  What time of day do they typically listen to music?\n",
    "\n",
    "* 4. How often do they explore new artists versus replaying favorites?"
   ]
  },
  {
   "cell_type": "markdown",
   "id": "cbe981a3-3abc-42b0-a7d0-18e98f92a17a",
   "metadata": {},
   "source": [
    "##  Assess Data"
   ]
  },
  {
   "cell_type": "code",
   "execution_count": 4,
   "id": "4d54dcda-c2ac-452b-8e57-ea307870cc00",
   "metadata": {},
   "outputs": [],
   "source": [
    "import pandas as pd"
   ]
  },
  {
   "cell_type": "code",
   "execution_count": 134,
   "id": "dce2a156-2342-436d-aedd-185608eaf4e8",
   "metadata": {},
   "outputs": [
    {
     "name": "stderr",
     "output_type": "stream",
     "text": [
      "/tmp/ipykernel_6245/3879005291.py:1: DtypeWarning: Columns (10,12,13) have mixed types. Specify dtype option on import or set low_memory=False.\n",
      "  history=pd.read_csv('spotify_history.csv')\n"
     ]
    }
   ],
   "source": [
    "history=pd.read_csv('spotify_history.csv')"
   ]
  },
  {
   "cell_type": "code",
   "execution_count": 136,
   "id": "31e50cb7-3369-403b-8199-528c82bc11d0",
   "metadata": {},
   "outputs": [
    {
     "data": {
      "text/html": [
       "<div>\n",
       "<style scoped>\n",
       "    .dataframe tbody tr th:only-of-type {\n",
       "        vertical-align: middle;\n",
       "    }\n",
       "\n",
       "    .dataframe tbody tr th {\n",
       "        vertical-align: top;\n",
       "    }\n",
       "\n",
       "    .dataframe thead th {\n",
       "        text-align: right;\n",
       "    }\n",
       "</style>\n",
       "<table border=\"1\" class=\"dataframe\">\n",
       "  <thead>\n",
       "    <tr style=\"text-align: right;\">\n",
       "      <th></th>\n",
       "      <th>spotify_track_uri</th>\n",
       "      <th>ts</th>\n",
       "      <th>platform</th>\n",
       "      <th>ms_played</th>\n",
       "      <th>track_name</th>\n",
       "      <th>artist_name</th>\n",
       "      <th>album_name</th>\n",
       "      <th>reason_start</th>\n",
       "      <th>reason_end</th>\n",
       "      <th>shuffle</th>\n",
       "      <th>skipped</th>\n",
       "      <th>Unnamed: 11</th>\n",
       "      <th>Unnamed: 12</th>\n",
       "      <th>Unnamed: 13</th>\n",
       "    </tr>\n",
       "  </thead>\n",
       "  <tbody>\n",
       "    <tr>\n",
       "      <th>0</th>\n",
       "      <td>2J3n32GeLmMjwuAzyhcSNe</td>\n",
       "      <td>2013-07-08 02:44:34</td>\n",
       "      <td>web player</td>\n",
       "      <td>3185</td>\n",
       "      <td>Say It, Just Say It</td>\n",
       "      <td>The Mowgli's</td>\n",
       "      <td>Waiting For The Dawn</td>\n",
       "      <td>autoplay</td>\n",
       "      <td>clickrow</td>\n",
       "      <td>FALSE</td>\n",
       "      <td>FALSE</td>\n",
       "      <td>NaN</td>\n",
       "      <td>NaN</td>\n",
       "      <td>NaN</td>\n",
       "    </tr>\n",
       "    <tr>\n",
       "      <th>1</th>\n",
       "      <td>1oHxIPqJyvAYHy0PVrDU98</td>\n",
       "      <td>2013-07-08 02:45:37</td>\n",
       "      <td>web player</td>\n",
       "      <td>61865</td>\n",
       "      <td>Drinking from the Bottle (feat. Tinie Tempah)</td>\n",
       "      <td>Calvin Harris</td>\n",
       "      <td>18 Months</td>\n",
       "      <td>clickrow</td>\n",
       "      <td>clickrow</td>\n",
       "      <td>FALSE</td>\n",
       "      <td>FALSE</td>\n",
       "      <td>NaN</td>\n",
       "      <td>NaN</td>\n",
       "      <td>NaN</td>\n",
       "    </tr>\n",
       "    <tr>\n",
       "      <th>2</th>\n",
       "      <td>487OPlneJNni3NWC8SYqhW</td>\n",
       "      <td>2013-07-08 02:50:24</td>\n",
       "      <td>web player</td>\n",
       "      <td>285386</td>\n",
       "      <td>Born To Die</td>\n",
       "      <td>Lana Del Rey</td>\n",
       "      <td>Born To Die - The Paradise Edition</td>\n",
       "      <td>clickrow</td>\n",
       "      <td>unknown</td>\n",
       "      <td>FALSE</td>\n",
       "      <td>FALSE</td>\n",
       "      <td>NaN</td>\n",
       "      <td>NaN</td>\n",
       "      <td>NaN</td>\n",
       "    </tr>\n",
       "    <tr>\n",
       "      <th>3</th>\n",
       "      <td>5IyblF777jLZj1vGHG2UD3</td>\n",
       "      <td>2013-07-08 02:52:40</td>\n",
       "      <td>web player</td>\n",
       "      <td>134022</td>\n",
       "      <td>Off To The Races</td>\n",
       "      <td>Lana Del Rey</td>\n",
       "      <td>Born To Die - The Paradise Edition</td>\n",
       "      <td>trackdone</td>\n",
       "      <td>clickrow</td>\n",
       "      <td>FALSE</td>\n",
       "      <td>FALSE</td>\n",
       "      <td>NaN</td>\n",
       "      <td>NaN</td>\n",
       "      <td>NaN</td>\n",
       "    </tr>\n",
       "    <tr>\n",
       "      <th>4</th>\n",
       "      <td>0GgAAB0ZMllFhbNc3mAodO</td>\n",
       "      <td>2013-07-08 03:17:52</td>\n",
       "      <td>web player</td>\n",
       "      <td>0</td>\n",
       "      <td>Half Mast</td>\n",
       "      <td>Empire Of The Sun</td>\n",
       "      <td>Walking On A Dream</td>\n",
       "      <td>clickrow</td>\n",
       "      <td>nextbtn</td>\n",
       "      <td>FALSE</td>\n",
       "      <td>FALSE</td>\n",
       "      <td>NaN</td>\n",
       "      <td>NaN</td>\n",
       "      <td>NaN</td>\n",
       "    </tr>\n",
       "  </tbody>\n",
       "</table>\n",
       "</div>"
      ],
      "text/plain": [
       "        spotify_track_uri                   ts    platform  ms_played  \\\n",
       "0  2J3n32GeLmMjwuAzyhcSNe  2013-07-08 02:44:34  web player       3185   \n",
       "1  1oHxIPqJyvAYHy0PVrDU98  2013-07-08 02:45:37  web player      61865   \n",
       "2  487OPlneJNni3NWC8SYqhW  2013-07-08 02:50:24  web player     285386   \n",
       "3  5IyblF777jLZj1vGHG2UD3  2013-07-08 02:52:40  web player     134022   \n",
       "4  0GgAAB0ZMllFhbNc3mAodO  2013-07-08 03:17:52  web player          0   \n",
       "\n",
       "                                      track_name        artist_name  \\\n",
       "0                            Say It, Just Say It       The Mowgli's   \n",
       "1  Drinking from the Bottle (feat. Tinie Tempah)      Calvin Harris   \n",
       "2                                    Born To Die       Lana Del Rey   \n",
       "3                               Off To The Races       Lana Del Rey   \n",
       "4                                      Half Mast  Empire Of The Sun   \n",
       "\n",
       "                           album_name reason_start reason_end shuffle skipped  \\\n",
       "0                Waiting For The Dawn     autoplay   clickrow   FALSE   FALSE   \n",
       "1                           18 Months     clickrow   clickrow   FALSE   FALSE   \n",
       "2  Born To Die - The Paradise Edition     clickrow    unknown   FALSE   FALSE   \n",
       "3  Born To Die - The Paradise Edition    trackdone   clickrow   FALSE   FALSE   \n",
       "4                  Walking On A Dream     clickrow    nextbtn   FALSE   FALSE   \n",
       "\n",
       "  Unnamed: 11 Unnamed: 12 Unnamed: 13  \n",
       "0         NaN         NaN         NaN  \n",
       "1         NaN         NaN         NaN  \n",
       "2         NaN         NaN         NaN  \n",
       "3         NaN         NaN         NaN  \n",
       "4         NaN         NaN         NaN  "
      ]
     },
     "execution_count": 136,
     "metadata": {},
     "output_type": "execute_result"
    }
   ],
   "source": [
    "history.head()"
   ]
  },
  {
   "cell_type": "code",
   "execution_count": 138,
   "id": "6368cdd1-9c6e-40ac-b233-45384ca2a99c",
   "metadata": {},
   "outputs": [
    {
     "data": {
      "text/plain": [
       "spotify_track_uri                           1oHxIPqJyvAYHy0PVrDU98\n",
       "ts                                             2013-07-08 02:45:37\n",
       "platform                                                web player\n",
       "ms_played                                                    61865\n",
       "track_name           Drinking from the Bottle (feat. Tinie Tempah)\n",
       "artist_name                                          Calvin Harris\n",
       "album_name                                               18 Months\n",
       "reason_start                                              clickrow\n",
       "reason_end                                                clickrow\n",
       "shuffle                                                      FALSE\n",
       "skipped                                                      FALSE\n",
       "Unnamed: 11                                                    NaN\n",
       "Unnamed: 12                                                    NaN\n",
       "Unnamed: 13                                                    NaN\n",
       "Name: 1, dtype: object"
      ]
     },
     "execution_count": 138,
     "metadata": {},
     "output_type": "execute_result"
    }
   ],
   "source": [
    "history.iloc[1]"
   ]
  },
  {
   "cell_type": "code",
   "execution_count": 149,
   "id": "2e311be1-9a6a-4f80-b0ee-3f10d8edfabe",
   "metadata": {},
   "outputs": [],
   "source": [
    "history.drop(history.iloc[:, 11:14], axis=1, inplace=True)"
   ]
  },
  {
   "cell_type": "code",
   "execution_count": 151,
   "id": "4c60663f-8755-4a33-95fc-b878f9dc092c",
   "metadata": {},
   "outputs": [
    {
     "data": {
      "text/html": [
       "<div>\n",
       "<style scoped>\n",
       "    .dataframe tbody tr th:only-of-type {\n",
       "        vertical-align: middle;\n",
       "    }\n",
       "\n",
       "    .dataframe tbody tr th {\n",
       "        vertical-align: top;\n",
       "    }\n",
       "\n",
       "    .dataframe thead th {\n",
       "        text-align: right;\n",
       "    }\n",
       "</style>\n",
       "<table border=\"1\" class=\"dataframe\">\n",
       "  <thead>\n",
       "    <tr style=\"text-align: right;\">\n",
       "      <th></th>\n",
       "      <th>spotify_track_uri</th>\n",
       "      <th>ts</th>\n",
       "      <th>platform</th>\n",
       "      <th>ms_played</th>\n",
       "      <th>track_name</th>\n",
       "      <th>artist_name</th>\n",
       "      <th>album_name</th>\n",
       "      <th>reason_start</th>\n",
       "      <th>reason_end</th>\n",
       "      <th>shuffle</th>\n",
       "      <th>skipped</th>\n",
       "    </tr>\n",
       "  </thead>\n",
       "  <tbody>\n",
       "    <tr>\n",
       "      <th>0</th>\n",
       "      <td>2J3n32GeLmMjwuAzyhcSNe</td>\n",
       "      <td>2013-07-08 02:44:34</td>\n",
       "      <td>web player</td>\n",
       "      <td>3185</td>\n",
       "      <td>Say It, Just Say It</td>\n",
       "      <td>The Mowgli's</td>\n",
       "      <td>Waiting For The Dawn</td>\n",
       "      <td>autoplay</td>\n",
       "      <td>clickrow</td>\n",
       "      <td>FALSE</td>\n",
       "      <td>FALSE</td>\n",
       "    </tr>\n",
       "    <tr>\n",
       "      <th>1</th>\n",
       "      <td>1oHxIPqJyvAYHy0PVrDU98</td>\n",
       "      <td>2013-07-08 02:45:37</td>\n",
       "      <td>web player</td>\n",
       "      <td>61865</td>\n",
       "      <td>Drinking from the Bottle (feat. Tinie Tempah)</td>\n",
       "      <td>Calvin Harris</td>\n",
       "      <td>18 Months</td>\n",
       "      <td>clickrow</td>\n",
       "      <td>clickrow</td>\n",
       "      <td>FALSE</td>\n",
       "      <td>FALSE</td>\n",
       "    </tr>\n",
       "    <tr>\n",
       "      <th>2</th>\n",
       "      <td>487OPlneJNni3NWC8SYqhW</td>\n",
       "      <td>2013-07-08 02:50:24</td>\n",
       "      <td>web player</td>\n",
       "      <td>285386</td>\n",
       "      <td>Born To Die</td>\n",
       "      <td>Lana Del Rey</td>\n",
       "      <td>Born To Die - The Paradise Edition</td>\n",
       "      <td>clickrow</td>\n",
       "      <td>unknown</td>\n",
       "      <td>FALSE</td>\n",
       "      <td>FALSE</td>\n",
       "    </tr>\n",
       "    <tr>\n",
       "      <th>3</th>\n",
       "      <td>5IyblF777jLZj1vGHG2UD3</td>\n",
       "      <td>2013-07-08 02:52:40</td>\n",
       "      <td>web player</td>\n",
       "      <td>134022</td>\n",
       "      <td>Off To The Races</td>\n",
       "      <td>Lana Del Rey</td>\n",
       "      <td>Born To Die - The Paradise Edition</td>\n",
       "      <td>trackdone</td>\n",
       "      <td>clickrow</td>\n",
       "      <td>FALSE</td>\n",
       "      <td>FALSE</td>\n",
       "    </tr>\n",
       "    <tr>\n",
       "      <th>4</th>\n",
       "      <td>0GgAAB0ZMllFhbNc3mAodO</td>\n",
       "      <td>2013-07-08 03:17:52</td>\n",
       "      <td>web player</td>\n",
       "      <td>0</td>\n",
       "      <td>Half Mast</td>\n",
       "      <td>Empire Of The Sun</td>\n",
       "      <td>Walking On A Dream</td>\n",
       "      <td>clickrow</td>\n",
       "      <td>nextbtn</td>\n",
       "      <td>FALSE</td>\n",
       "      <td>FALSE</td>\n",
       "    </tr>\n",
       "  </tbody>\n",
       "</table>\n",
       "</div>"
      ],
      "text/plain": [
       "        spotify_track_uri                   ts    platform  ms_played  \\\n",
       "0  2J3n32GeLmMjwuAzyhcSNe  2013-07-08 02:44:34  web player       3185   \n",
       "1  1oHxIPqJyvAYHy0PVrDU98  2013-07-08 02:45:37  web player      61865   \n",
       "2  487OPlneJNni3NWC8SYqhW  2013-07-08 02:50:24  web player     285386   \n",
       "3  5IyblF777jLZj1vGHG2UD3  2013-07-08 02:52:40  web player     134022   \n",
       "4  0GgAAB0ZMllFhbNc3mAodO  2013-07-08 03:17:52  web player          0   \n",
       "\n",
       "                                      track_name        artist_name  \\\n",
       "0                            Say It, Just Say It       The Mowgli's   \n",
       "1  Drinking from the Bottle (feat. Tinie Tempah)      Calvin Harris   \n",
       "2                                    Born To Die       Lana Del Rey   \n",
       "3                               Off To The Races       Lana Del Rey   \n",
       "4                                      Half Mast  Empire Of The Sun   \n",
       "\n",
       "                           album_name reason_start reason_end shuffle skipped  \n",
       "0                Waiting For The Dawn     autoplay   clickrow   FALSE   FALSE  \n",
       "1                           18 Months     clickrow   clickrow   FALSE   FALSE  \n",
       "2  Born To Die - The Paradise Edition     clickrow    unknown   FALSE   FALSE  \n",
       "3  Born To Die - The Paradise Edition    trackdone   clickrow   FALSE   FALSE  \n",
       "4                  Walking On A Dream     clickrow    nextbtn   FALSE   FALSE  "
      ]
     },
     "execution_count": 151,
     "metadata": {},
     "output_type": "execute_result"
    }
   ],
   "source": [
    "history.head()"
   ]
  },
  {
   "cell_type": "code",
   "execution_count": 170,
   "id": "ecfa216a-cdf6-4aae-b509-2fd300acf28c",
   "metadata": {},
   "outputs": [
    {
     "name": "stdout",
     "output_type": "stream",
     "text": [
      "['2J3n32GeLmMjwuAzyhcSNe' '1oHxIPqJyvAYHy0PVrDU98'\n",
      " '487OPlneJNni3NWC8SYqhW' ... '0mWXrr6HQZUhCQG4JMkT2e'\n",
      " '2dhwJNH50XJWS3tCKVWKtD' '0mD2pnYVF8DB3oqtY5KM8h']\n",
      "['2013-07-08 02:44:34' '2013-07-08 02:45:37' '2013-07-08 02:50:24' ...\n",
      " '2024-12-15 23:06:22' '2024-12-15 23:06:23' '2024-12-15 23:06:25']\n",
      "['web player' 'windows' 'android' 'iOS' 'cast to device' 'mac']\n",
      "[  3185  61865 285386 ... 105659  24162  10672]\n",
      "['Say It, Just Say It' 'Drinking from the Bottle (feat. Tinie Tempah)'\n",
      " 'Born To Die' ... 'Oo-De-Lally - From \"Robin Hood\"' 'King Of The Road'\n",
      " 'Chug-A-Lug']\n",
      "[\"The Mowgli's\" 'Calvin Harris' 'Lana Del Rey' ... 'Rudy Snow'\n",
      " 'Ultra Band' 'Jesse Welles']\n",
      "['Waiting For The Dawn' '18 Months' 'Born To Die - The Paradise Edition'\n",
      " ... 'Patchwork' 'Oo-De-Lally' 'King Of The Road']\n",
      "['autoplay' 'clickrow' 'trackdone' 'nextbtn' 'backbtn' 'unknown' 'popup'\n",
      " 'appload' 'fwdbtn' 'trackerror' nan 'The Very Best of the Doors'\n",
      " 'The Very Best of Van Halen (UK Release)' 'remote' 'Loaded' 'endplay'\n",
      " 'playbtn' 'ChangesBowie' ' Bizet: Carmen-Suite'\n",
      " 'Finesse (Remix) [feat. Cardi B]' 'n&#39'\n",
      " 'Loaded: Re-Loaded 45th Anniversary Edition' 'Acoustic Sessions'\n",
      " 'MTV Unplugged' ' Lullabies and Nocturne for Violin and Piano'\n",
      " \" L'Arlésienne Suites\" ' Saint-Saens: Carnival of the Animals'\n",
      " ' Classical Symphony Op.25' ' Lieutenant Kijé' ' Bacchanale' ' Nocturnes'\n",
      " 'Ready to Die']\n",
      "['clickrow' 'unknown' 'nextbtn' 'trackdone' 'backbtn' 'reload' 'popup'\n",
      " 'endplay' 'fwdbtn' 'appload' nan 'unexpected-exit-while-paused'\n",
      " 'unexpected-exit' 'logout' 'remote' 'Roll' 'playbtn' 'trackerror'\n",
      " \" Britten: The Young Person's Guide to the Orchestra\" ' March Op.99'\n",
      " ' Danse Macabre' ' Barcarolles']\n",
      "['FALSE' 'TRUE' 'endplay' 'fwdbtn' 'trackdone' nan 'logout'\n",
      " 'unexpected-exit-while-paused' 'backbtn' 'unknown' ' Overture Op.34'\n",
      " ' Carnaval des Animaux' ' Impromptus']\n",
      "['FALSE' 'TRUE' 'fwdbtn' 'trackdone' 'endplay' False True]\n"
     ]
    }
   ],
   "source": [
    "print(history.iloc[:, 0].unique())\n",
    "print(history.iloc[:, 1].unique())\n",
    "print(history.iloc[:, 2].unique())\n",
    "print(history.iloc[:, 3].unique())\n",
    "print(history.iloc[:, 4].unique())\n",
    "print(history.iloc[:, 5].unique())\n",
    "print(history.iloc[:, 6].unique())\n",
    "print(history.iloc[:, 7].unique())\n",
    "print(history.iloc[:, 8].unique())\n",
    "print(history.iloc[:, 9].unique())\n",
    "print(history.iloc[:, 10].unique())"
   ]
  },
  {
   "cell_type": "code",
   "execution_count": 160,
   "id": "cacc585d-4092-4588-aadd-c937919e5148",
   "metadata": {},
   "outputs": [
    {
     "data": {
      "text/plain": [
       "149859    2024-12-15 23:06:25\n",
       "149858    2024-12-15 23:06:23\n",
       "149857    2024-12-15 23:06:22\n",
       "149856    2024-12-15 23:06:21\n",
       "149855    2024-12-15 23:06:19\n",
       "                 ...         \n",
       "5         2013-07-08 03:17:52\n",
       "3         2013-07-08 02:52:40\n",
       "2         2013-07-08 02:50:24\n",
       "1         2013-07-08 02:45:37\n",
       "0         2013-07-08 02:44:34\n",
       "Name: ts, Length: 149860, dtype: object"
      ]
     },
     "execution_count": 160,
     "metadata": {},
     "output_type": "execute_result"
    }
   ],
   "source": [
    "history['ts'].sort_values(ascending=False)"
   ]
  },
  {
   "cell_type": "code",
   "execution_count": 162,
   "id": "fd06e0bf-8def-463b-8947-7e7b674cdb4b",
   "metadata": {},
   "outputs": [
    {
     "data": {
      "text/plain": [
       "Index(['spotify_track_uri', 'ts', 'platform', 'ms_played', 'track_name',\n",
       "       'artist_name', 'album_name', 'reason_start', 'reason_end', 'shuffle',\n",
       "       'skipped'],\n",
       "      dtype='object')"
      ]
     },
     "execution_count": 162,
     "metadata": {},
     "output_type": "execute_result"
    }
   ],
   "source": [
    "history.head(1).columns"
   ]
  },
  {
   "cell_type": "code",
   "execution_count": 168,
   "id": "47c30b0a-ae2c-45d6-a14d-0d40e5c0515f",
   "metadata": {},
   "outputs": [
    {
     "data": {
      "text/html": [
       "<div>\n",
       "<style scoped>\n",
       "    .dataframe tbody tr th:only-of-type {\n",
       "        vertical-align: middle;\n",
       "    }\n",
       "\n",
       "    .dataframe tbody tr th {\n",
       "        vertical-align: top;\n",
       "    }\n",
       "\n",
       "    .dataframe thead th {\n",
       "        text-align: right;\n",
       "    }\n",
       "</style>\n",
       "<table border=\"1\" class=\"dataframe\">\n",
       "  <thead>\n",
       "    <tr style=\"text-align: right;\">\n",
       "      <th></th>\n",
       "      <th>spotify_track_uri</th>\n",
       "      <th>ts</th>\n",
       "      <th>platform</th>\n",
       "      <th>ms_played</th>\n",
       "      <th>track_name</th>\n",
       "      <th>artist_name</th>\n",
       "      <th>album_name</th>\n",
       "      <th>reason_start</th>\n",
       "      <th>reason_end</th>\n",
       "      <th>shuffle</th>\n",
       "      <th>skipped</th>\n",
       "    </tr>\n",
       "  </thead>\n",
       "  <tbody>\n",
       "    <tr>\n",
       "      <th>0</th>\n",
       "      <td>2J3n32GeLmMjwuAzyhcSNe</td>\n",
       "      <td>2013-07-08 02:44:34</td>\n",
       "      <td>web player</td>\n",
       "      <td>3185</td>\n",
       "      <td>Say It, Just Say It</td>\n",
       "      <td>The Mowgli's</td>\n",
       "      <td>Waiting For The Dawn</td>\n",
       "      <td>autoplay</td>\n",
       "      <td>clickrow</td>\n",
       "      <td>FALSE</td>\n",
       "      <td>FALSE</td>\n",
       "    </tr>\n",
       "  </tbody>\n",
       "</table>\n",
       "</div>"
      ],
      "text/plain": [
       "        spotify_track_uri                   ts    platform  ms_played  \\\n",
       "0  2J3n32GeLmMjwuAzyhcSNe  2013-07-08 02:44:34  web player       3185   \n",
       "\n",
       "            track_name   artist_name            album_name reason_start  \\\n",
       "0  Say It, Just Say It  The Mowgli's  Waiting For The Dawn     autoplay   \n",
       "\n",
       "  reason_end shuffle skipped  \n",
       "0   clickrow   FALSE   FALSE  "
      ]
     },
     "execution_count": 168,
     "metadata": {},
     "output_type": "execute_result"
    }
   ],
   "source": [
    "history.head(1)"
   ]
  },
  {
   "cell_type": "markdown",
   "id": "765fd20b-63d6-4e38-b5bc-41a3d2d156b5",
   "metadata": {},
   "source": [
    "## Q1. Which artist did they listen to the most this year? Is it the same as last year?\n",
    "### Convert 'ts' column to datetime"
   ]
  },
  {
   "cell_type": "code",
   "execution_count": 196,
   "id": "5d5a0fab-566e-48ed-953f-a5c3de45a00b",
   "metadata": {},
   "outputs": [],
   "source": [
    "history['ts'] = pd.to_datetime(history['ts'])"
   ]
  },
  {
   "cell_type": "markdown",
   "id": "791b1264-b618-41ba-9c28-d8bcdd9f0a55",
   "metadata": {},
   "source": [
    "### Function to get the most played artist for a given year"
   ]
  },
  {
   "cell_type": "code",
   "execution_count": 202,
   "id": "8bc2c709-98c6-4ffa-89c9-4635b38f51c9",
   "metadata": {},
   "outputs": [],
   "source": [
    "def most_listened_artist(year):\n",
    "    yearly_data = history[history['ts'].dt.year == year]\n",
    "    artist_playtime = yearly_data.groupby('artist_name')['ms_played'].sum()\n",
    "    if artist_playtime.empty:\n",
    "        return None, 0\n",
    "    return artist_playtime.idxmax(), artist_playtime.max()\n"
   ]
  },
  {
   "cell_type": "markdown",
   "id": "08132125-c11b-4e61-96dc-5d6b8acdfff3",
   "metadata": {},
   "source": [
    "### Get most listened artist for 2024 and 2023"
   ]
  },
  {
   "cell_type": "code",
   "execution_count": 207,
   "id": "be75b0ab-bccb-4ee5-938d-51bd7228aea2",
   "metadata": {},
   "outputs": [
    {
     "name": "stdout",
     "output_type": "stream",
     "text": [
      "Most listened artist in 2024: John Mayer with 1519.3877166666666 minutes played.\n",
      "Most listened artist in 2023: The Killers with 1633.39515 minutes played.\n"
     ]
    }
   ],
   "source": [
    "artist_2024, time_2024 = most_listened_artist(2024)\n",
    "artist_2023, time_2023 = most_listened_artist(2023)\n",
    "\n",
    "print(f\"Most listened artist in 2024: {artist_2024} with {time_2024 / (1000 * 60)} minutes played.\")\n",
    "print(f\"Most listened artist in 2023: {artist_2023} with {time_2023 / (1000 * 60)} minutes played.\")"
   ]
  },
  {
   "cell_type": "markdown",
   "id": "2e54c7c2-28b5-4eea-a0e7-6f5141beba27",
   "metadata": {},
   "source": [
    "### Compare if they are the same"
   ]
  },
  {
   "cell_type": "code",
   "execution_count": 210,
   "id": "efddb24a-8fd2-4c8a-81d4-cb2eae1d6562",
   "metadata": {},
   "outputs": [
    {
     "name": "stdout",
     "output_type": "stream",
     "text": [
      "Your most listened artist changed from The Killers in 2023 to John Mayer in 2024.\n"
     ]
    }
   ],
   "source": [
    "if artist_2024 == artist_2023:\n",
    "    print(f\"You listened to {artist_2024} the most in both 2023 and 2024!\")\n",
    "else:\n",
    "    print(f\"Your most listened artist changed from {artist_2023} in 2023 to {artist_2024} in 2024.\")"
   ]
  },
  {
   "cell_type": "markdown",
   "id": "ec79c30f-7a95-4dac-8ef7-a385c9a2617f",
   "metadata": {},
   "source": [
    "## Q2.Which songs have they played the most? How often do they skip them?"
   ]
  },
  {
   "cell_type": "markdown",
   "id": "417279f0-ffa8-4d67-bbcb-a9bbb8a94331",
   "metadata": {},
   "source": [
    "#### Count total plays per song\n",
    "#### Count skips (assuming 'skipped' column is True for skips)"
   ]
  },
  {
   "cell_type": "code",
   "execution_count": 216,
   "id": "2ed912f2-9a37-4161-9f04-a730100b836b",
   "metadata": {},
   "outputs": [],
   "source": [
    "song_play_counts = history.groupby('track_name')['ms_played'].count()\n",
    "skip_counts = history[history['skipped'] == True].groupby('track_name')['skipped'].count()"
   ]
  },
  {
   "cell_type": "code",
   "execution_count": 220,
   "id": "69f688cd-7780-410b-9ac4-2ab54355eb73",
   "metadata": {},
   "outputs": [],
   "source": [
    "# Merge both counts into a DataFrame\n",
    "song_stats = pd.DataFrame({'total_plays': song_play_counts, 'skip_counts': skip_counts}).fillna(0)\n",
    "\n",
    "# Calculate skip rate\n",
    "song_stats['skip_rate (%)'] = (song_stats['skip_counts'] / song_stats['total_plays']) * 100"
   ]
  },
  {
   "cell_type": "code",
   "execution_count": 224,
   "id": "d33c66da-f7b1-4078-b6e5-928ae0176ca7",
   "metadata": {},
   "outputs": [
    {
     "name": "stdout",
     "output_type": "stream",
     "text": [
      "Top 10 Most Played Songs:\n",
      "                                   total_plays  skip_counts  skip_rate (%)\n",
      "track_name                                                                \n",
      "Ode To The Mets                            207          1.0       0.483092\n",
      "In the Blood                               181          1.0       0.552486\n",
      "Dying Breed                                166          2.0       1.204819\n",
      "Caution                                    164          2.0       1.219512\n",
      "19 Dias y 500 Noches - En Directo          148          3.0       2.027027\n",
      "For What It's Worth                        146          1.0       0.684932\n",
      "All These Things That I've Done            142          0.0       0.000000\n",
      "Concerning Hobbits                         142          4.0       2.816901\n",
      "Come Together - Remastered 2009            137          1.0       0.729927\n",
      "The Boxer                                  135          2.0       1.481481\n"
     ]
    }
   ],
   "source": [
    "top_songs = song_stats.sort_values(by='total_plays', ascending=False).head(10)\n",
    "print(\"Top 10 Most Played Songs:\")\n",
    "print(top_songs)"
   ]
  },
  {
   "cell_type": "code",
   "execution_count": 245,
   "id": "0b905a75-de01-411e-b26d-8f7bd5e7dabb",
   "metadata": {},
   "outputs": [],
   "source": [
    "import matplotlib.pyplot as plt"
   ]
  },
  {
   "cell_type": "markdown",
   "id": "15ac00e0-6679-49c1-a827-c6ec77edf149",
   "metadata": {},
   "source": [
    "## Q3.What time of day do they typically listen to music?"
   ]
  },
  {
   "cell_type": "markdown",
   "id": "d2bca930-e9ec-4312-8b7e-d65e47d4a30a",
   "metadata": {},
   "source": [
    "#### Extract hour from timestamp"
   ]
  },
  {
   "cell_type": "code",
   "execution_count": 249,
   "id": "3eacc263-a284-4019-b2b4-2015c49bd8bd",
   "metadata": {},
   "outputs": [],
   "source": [
    "history['hour'] = history['ts'].dt.hour"
   ]
  },
  {
   "cell_type": "markdown",
   "id": "a3903ca3-600c-4523-884f-170711e49c9f",
   "metadata": {},
   "source": [
    "#### Count number of plays per hour"
   ]
  },
  {
   "cell_type": "code",
   "execution_count": 252,
   "id": "754f5e96-45d8-4593-9003-f5abe6af20df",
   "metadata": {},
   "outputs": [],
   "source": [
    "hourly_play_counts = history['hour'].value_counts().sort_index()"
   ]
  },
  {
   "cell_type": "markdown",
   "id": "fa9fb7c3-63a8-40ad-ac77-c368570aa64e",
   "metadata": {},
   "source": [
    "#### Plot listening habits"
   ]
  },
  {
   "cell_type": "code",
   "execution_count": 261,
   "id": "6673e761-c430-4ba1-ba9b-30bc85f763a5",
   "metadata": {},
   "outputs": [
    {
     "data": {
      "image/png": "[encoded data removed]",
      "text/plain": [
       "<Figure size 1000x500 with 1 Axes>"
      ]
     },
     "metadata": {},
     "output_type": "display_data"
    }
   ],
   "source": [
    "\n",
    "plt.figure(figsize=(10, 5))\n",
    "plt.bar(hourly_play_counts.index, hourly_play_counts.values, color='skyblue')\n",
    "plt.xlabel(\"Hour of the Day\")\n",
    "plt.ylabel(\"Number of Plays\")\n",
    "plt.title(\"Listening Activity by Time of Day\")\n",
    "plt.xticks(range(24)) \n",
    "plt.grid(axis='y', linestyle='--', alpha=0.7)\n",
    "\n",
    "plt.show()"
   ]
  },
  {
   "cell_type": "markdown",
   "id": "d245f59f-055a-465b-83b2-f8a52f98f512",
   "metadata": {},
   "source": [
    "## Q4How often do they explore new artists versus replaying favorites?"
   ]
  },
  {
   "cell_type": "markdown",
   "id": "25f08a6a-cc88-4cb7-9027-2e3370db059e",
   "metadata": {},
   "source": [
    "#### Sort by timestamp to track the order of listens"
   ]
  },
  {
   "cell_type": "code",
   "execution_count": 266,
   "id": "52ab9900-7c99-4070-931c-38989cefdc8a",
   "metadata": {},
   "outputs": [],
   "source": [
    "history = history.sort_values(by='ts')"
   ]
  },
  {
   "cell_type": "markdown",
   "id": "0e357b72-6508-421c-a527-5d4fc9cb7c03",
   "metadata": {},
   "source": [
    "#### Track unique artists over time\n",
    "#### Count new vs. repeated plays"
   ]
  },
  {
   "cell_type": "code",
   "execution_count": 269,
   "id": "8164398a-2a91-443a-8c1d-d5f24c406909",
   "metadata": {},
   "outputs": [],
   "source": [
    "history['is_new_artist'] = ~history['artist_name'].duplicated()\n",
    "\n",
    "new_artist_plays = history['is_new_artist'].sum()\n",
    "total_plays = len(history)\n",
    "replayed_plays = total_plays - new_artist_plays"
   ]
  },
  {
   "cell_type": "code",
   "execution_count": 271,
   "id": "d1322786-0694-48c5-aeab-f4c3c425e95a",
   "metadata": {},
   "outputs": [
    {
     "name": "stdout",
     "output_type": "stream",
     "text": [
      "Total Plays: 149860\n",
      "New Artist Plays: 4121 (2.75%)\n",
      "Replayed Artist Plays: 145739 (97.25%)\n"
     ]
    }
   ],
   "source": [
    "new_artist_percentage = (new_artist_plays / total_plays) * 100\n",
    "replayed_percentage = (replayed_plays / total_plays) * 100\n",
    "\n",
    "print(f\"Total Plays: {total_plays}\")\n",
    "print(f\"New Artist Plays: {new_artist_plays} ({new_artist_percentage:.2f}%)\")\n",
    "print(f\"Replayed Artist Plays: {replayed_plays} ({replayed_percentage:.2f}%)\")"
   ]
  }
 ],
 "metadata": {
  "kernelspec": {
   "display_name": "Python [conda env:base] *",
   "language": "python",
   "name": "conda-base-py"
  },
  "language_info": {
   "codemirror_mode": {
    "name": "ipython",
    "version": 3
   },
   "file_extension": ".py",
   "mimetype": "text/x-python",
   "name": "python",
   "nbconvert_exporter": "python",
   "pygments_lexer": "ipython3",
   "version": "3.12.7"
  }
 },
 "nbformat": 4,
 "nbformat_minor": 5
}
